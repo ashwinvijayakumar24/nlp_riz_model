{
 "cells": [
  {
   "cell_type": "code",
   "execution_count": 3,
   "id": "88822e7d",
   "metadata": {},
   "outputs": [],
   "source": [
    "import pandas as pd\n",
    "from imdb import Cinemagoer"
   ]
  },
  {
   "cell_type": "code",
   "execution_count": 4,
   "id": "c50bee76",
   "metadata": {},
   "outputs": [],
   "source": [
    "ia = Cinemagoer()"
   ]
  },
  {
   "cell_type": "code",
   "execution_count": 5,
   "id": "d12bbbcd",
   "metadata": {},
   "outputs": [
    {
     "name": "stdout",
     "output_type": "stream",
     "text": [
      "[<Person id:0000821[http] name:_Amitabh Bachchan_>, <Person id:0451321[http] name:_Shah Rukh Khan_>, <Person id:0045393[http] name:_Abhishek Bachchan_>, <Person id:0611552[http] name:_Rani Mukerji_>, <Person id:0006689[http] name:_Preity G Zinta_>, <Person id:0451601[http] name:_Kirron Kher_>, <Person id:0992000[http] name:_Arjun Rampal_>, <Person id:1303433[http] name:_John Abraham_>, <Person id:2975185[http] name:_Logan Anderson_>, <Person id:2986092[http] name:_Lisa Anzelmo_>, <Person id:2133798[http] name:_Jarett Armstrong_>, <Person id:2117962[http] name:_Patrick Armstrong_>, <Person id:2163763[http] name:_Diane Baisley_>, <Person id:5330549[http] name:_Steven Baker_>, <Person id:1328580[http] name:_Tomm Bauer_>, <Person id:2698970[http] name:_Himad Beg_>, <Person id:2598405[http] name:_Whit Blanchard_>, <Person id:2826026[http] name:_Kristen Bough_>, <Person id:2059521[http] name:_Kate Braithwaite_>, <Person id:0104845[http] name:_Matt Brandstein_>, <Person id:5281516[http] name:_Marie Brandt_>, <Person id:1846511[http] name:_Adrianna Bremont_>, <Person id:1184515[http] name:_Tracey Brennan_>, <Person id:2590193[http] name:_Art Brown_>, <Person id:1622877[http] name:_Kevin Cannon_>, <Person id:1741856[http] name:_Ahsaas Channa_>, <Person id:2450975[http] name:_Bob Connelly_>, <Person id:2648585[http] name:_Gustavo Cunha_>, <Person id:0194278[http] name:_Cyre_>, <Person id:1955608[http] name:_Greg D'Agostino_>, <Person id:2754713[http] name:_Michael C. Davis_>, <Person id:2110485[http] name:_Manish Dayal_>, <Person id:1832865[http] name:_Peter Defeo_>, <Person id:0218755[http] name:_Pat Dempsey_>, <Person id:3180116[http] name:_Gabriel Ellis_>, <Person id:0274043[http] name:_Brian Ferrari_>, <Person id:3459563[http] name:_Max Garfin_>, <Person id:2090108[http] name:_Kathryn Gerhardt_>, <Person id:1864665[http] name:_Nick Gjoka_>, <Person id:3520663[http] name:_Tom Gribby_>, <Person id:3821313[http] name:_Jeff Halpin_>, <Person id:12965938[http] name:_CJ Hatch_>, <Person id:2704500[http] name:_Andrew Hillmedo Jr._>, <Person id:2833846[http] name:_Aykut Hilmi_>, <Person id:2115882[http] name:_Allen Iaccarino_>, <Person id:2272106[http] name:_Shobhit Jain_>, <Person id:2184079[http] name:_Matthew Joseff_>, <Person id:3627121[http] name:_William James Kelly_>, <Person id:5707286[http] name:_Ryan Kim_>, <Person id:2287329[http] name:_Larissa Kohler_>, <Person id:2648422[http] name:_Ginger Kroll_>, <Person id:2420125[http] name:_Charlotte Lake_>, <Person id:3071103[http] name:_Michael Leister_>, <Person id:2116830[http] name:_Rithear Len_>, <Person id:1999213[http] name:_Oliver Martin_>, <Person id:1779483[http] name:_Madalyn McKay_>, <Person id:3357111[http] name:_Jay Prakash Mistry_>, <Person id:1079124[http] name:_Saira Mohan_>, <Person id:2339107[http] name:_Moniere_>, <Person id:2182684[http] name:_Omar Mora_>, <Person id:5886517[http] name:_Jeffrey Mowery_>, <Person id:2209781[http] name:_Ayan Mukerji_>, <Person id:2201995[http] name:_Carmel Navé_>, <Person id:1468374[http] name:_Joel Ney_>, <Person id:1929545[http] name:_Christine Lisa Racinez_>, <Person id:4320008[http] name:_Speir Rahn_>, <Person id:2872135[http] name:_Giuseppe Raucci_>, <Person id:2330778[http] name:_Alyssa Ritch_>, <Person id:2891341[http] name:_Kenny Solomons_>, <Person id:2311954[http] name:_Robert Gordon Spencer_>, <Person id:1743184[http] name:_Kali Stivison_>, <Person id:1745484[http] name:_Tibor Taylor_>, <Person id:2201760[http] name:_Henry Torbin_>, <Person id:2645470[http] name:_Joseph Tornatore_>, <Person id:3964463[http] name:_Vladimir Troitsky_>, <Person id:1694149[http] name:_Steve West_>, <Person id:2114433[http] name:_Christopher Wilford_>, <Person id:1766238[http] name:_Jonathan Williams_>, <Person id:2420725[http] name:_Tyler Barnes_>, <Person id:1731680[http] name:_Robert Bizik_>, <Person id:2416835[http] name:_Christiane Brown_>, <Person id:5947726[http] name:_Billy Burke_>, <Person id:2108097[http] name:_Meredith Croft_>, <Person id:2660738[http] name:_David Hilfstein_>, <Person id:0004418[http] name:_Kajol_>, <Person id:2827073[http] name:_Robert Myers_>, <Person id:1761632[http] name:_Mim Paquin_>, <Person id:0990582[http] name:_Mark J. Parker_>, <Person id:3863757[http] name:_Hayley Raphael_>, <Person id:1553207[http] name:_Georgia Reed_>, <Person id:2655690[http] name:_Sybelle Silverphoenix_>, <Person id:2296754[http] name:_Jeremy Woods_>, <Person id:0950458[http] name:_Albert Yu_>]\n"
     ]
    }
   ],
   "source": [
    "movie_id = ia.search_movie('kabhi Alvida naa kehna')[0].movieID\n",
    "movie = ia.get_movie(movie_id)\n",
    "cast = movie['cast']\n",
    "print(cast)\n"
   ]
  },
  {
   "cell_type": "code",
   "execution_count": null,
   "id": "4f94267d",
   "metadata": {},
   "outputs": [],
   "source": []
  }
 ],
 "metadata": {
  "kernelspec": {
   "display_name": ".venv",
   "language": "python",
   "name": "python3"
  },
  "language_info": {
   "codemirror_mode": {
    "name": "ipython",
    "version": 3
   },
   "file_extension": ".py",
   "mimetype": "text/x-python",
   "name": "python",
   "nbconvert_exporter": "python",
   "pygments_lexer": "ipython3",
   "version": "3.13.3"
  }
 },
 "nbformat": 4,
 "nbformat_minor": 5
}
