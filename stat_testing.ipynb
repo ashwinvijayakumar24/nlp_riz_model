{
 "cells": [
  {
   "cell_type": "code",
   "execution_count": 5,
   "id": "5916cbed",
   "metadata": {},
   "outputs": [],
   "source": [
    "from scipy.stats import ttest_ind\n",
    "import pandas as pd"
   ]
  },
  {
   "cell_type": "code",
   "execution_count": 12,
   "id": "79c348e6",
   "metadata": {},
   "outputs": [
    {
     "name": "stdout",
     "output_type": "stream",
     "text": [
      "[0, 0, 1, 2, 1, 1, 1, 1, 0, 0, 0, 0, 0, 1, 2, 2, 0, 1, 0, 0, 1, 0, 1, 1, 0, 0, 1, 1, 0, 1]\n",
      "[3, 1, 0, 0, 1, 2, 0, 0, 2, 2, 1, 1, 1, 2, 3, 0, 1, 1, 1, 2, 2, 1, 2, 1, 2, 1, 1, 2, 2, 1]\n"
     ]
    }
   ],
   "source": [
    "df = pd.read_csv('riz_test_results.csv')\n",
    "pre_modi_scores  = list(df[df['Year'] < 2014]['riz_score'])\n",
    "current_modi_scores  = list(df[df['Year'] >= 2014]['riz_score'])\n",
    "print(pre_modi_scores)\n",
    "print(current_modi_scores)\n"
   ]
  },
  {
   "cell_type": "code",
   "execution_count": 13,
   "id": "5e8903ee",
   "metadata": {},
   "outputs": [
    {
     "name": "stdout",
     "output_type": "stream",
     "text": [
      "T-statistic: -3.409288267803997\n",
      "P-value: 0.0011908561521431795\n"
     ]
    }
   ],
   "source": [
    "t_stat, p_val = ttest_ind(pre_modi_scores, current_modi_scores)\n",
    "\n",
    "print(f\"T-statistic: {t_stat}\")\n",
    "print(f\"P-value: {p_val}\")"
   ]
  },
  {
   "cell_type": "code",
   "execution_count": null,
   "id": "80005d60",
   "metadata": {},
   "outputs": [],
   "source": []
  }
 ],
 "metadata": {
  "kernelspec": {
   "display_name": ".venv",
   "language": "python",
   "name": "python3"
  },
  "language_info": {
   "codemirror_mode": {
    "name": "ipython",
    "version": 3
   },
   "file_extension": ".py",
   "mimetype": "text/x-python",
   "name": "python",
   "nbconvert_exporter": "python",
   "pygments_lexer": "ipython3",
   "version": "3.13.3"
  }
 },
 "nbformat": 4,
 "nbformat_minor": 5
}
