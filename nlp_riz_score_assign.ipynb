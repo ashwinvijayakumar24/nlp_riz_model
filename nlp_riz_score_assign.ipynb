{
 "cells": [
  {
   "cell_type": "code",
   "execution_count": 1,
   "metadata": {},
   "outputs": [],
   "source": [
    "import pandas as pd"
   ]
  },
  {
   "cell_type": "code",
   "execution_count": 2,
   "metadata": {},
   "outputs": [
    {
     "data": {
      "text/html": [
       "<div>\n",
       "<style scoped>\n",
       "    .dataframe tbody tr th:only-of-type {\n",
       "        vertical-align: middle;\n",
       "    }\n",
       "\n",
       "    .dataframe tbody tr th {\n",
       "        vertical-align: top;\n",
       "    }\n",
       "\n",
       "    .dataframe thead th {\n",
       "        text-align: right;\n",
       "    }\n",
       "</style>\n",
       "<table border=\"1\" class=\"dataframe\">\n",
       "  <thead>\n",
       "    <tr style=\"text-align: right;\">\n",
       "      <th></th>\n",
       "      <th>Movie Title</th>\n",
       "      <th>Year</th>\n",
       "      <th>Dialogue</th>\n",
       "    </tr>\n",
       "  </thead>\n",
       "  <tbody>\n",
       "    <tr>\n",
       "      <th>0</th>\n",
       "      <td>Veer Zaara</td>\n",
       "      <td>2004</td>\n",
       "      <td>One early morning</td>\n",
       "    </tr>\n",
       "    <tr>\n",
       "      <th>1</th>\n",
       "      <td>Veer Zaara</td>\n",
       "      <td>2004</td>\n",
       "      <td>Lifting the dark misty veil</td>\n",
       "    </tr>\n",
       "    <tr>\n",
       "      <th>2</th>\n",
       "      <td>Veer Zaara</td>\n",
       "      <td>2004</td>\n",
       "      <td>of the night</td>\n",
       "    </tr>\n",
       "    <tr>\n",
       "      <th>3</th>\n",
       "      <td>Veer Zaara</td>\n",
       "      <td>2004</td>\n",
       "      <td>From its pillow of its mountain peak</td>\n",
       "    </tr>\n",
       "    <tr>\n",
       "      <th>4</th>\n",
       "      <td>Veer Zaara</td>\n",
       "      <td>2004</td>\n",
       "      <td>the Sun rose and saw...</td>\n",
       "    </tr>\n",
       "  </tbody>\n",
       "</table>\n",
       "</div>"
      ],
      "text/plain": [
       "  Movie Title  Year                              Dialogue\n",
       "0  Veer Zaara  2004                     One early morning\n",
       "1  Veer Zaara  2004           Lifting the dark misty veil\n",
       "2  Veer Zaara  2004                          of the night\n",
       "3  Veer Zaara  2004  From its pillow of its mountain peak\n",
       "4  Veer Zaara  2004               the Sun rose and saw..."
      ]
     },
     "execution_count": 2,
     "metadata": {},
     "output_type": "execute_result"
    }
   ],
   "source": [
    "df = pd.read_csv('structured_dialogues.csv')\n",
    "df.head()"
   ]
  },
  {
   "cell_type": "code",
   "execution_count": 3,
   "metadata": {},
   "outputs": [
    {
     "name": "stdout",
     "output_type": "stream",
     "text": [
      "Movie Title    0\n",
      "Year           0\n",
      "Dialogue       1\n",
      "dtype: int64\n"
     ]
    }
   ],
   "source": [
    "print(df.isnull().sum())"
   ]
  },
  {
   "cell_type": "code",
   "execution_count": 4,
   "metadata": {},
   "outputs": [
    {
     "name": "stdout",
     "output_type": "stream",
     "text": [
      "Movie Title    0\n",
      "Year           0\n",
      "Dialogue       0\n",
      "dtype: int64\n"
     ]
    }
   ],
   "source": [
    "df = df.fillna('-')\n",
    "print(df.isnull().sum())"
   ]
  },
  {
   "cell_type": "code",
   "execution_count": 5,
   "metadata": {},
   "outputs": [
    {
     "name": "stdout",
     "output_type": "stream",
     "text": [
      "10033\n"
     ]
    }
   ],
   "source": [
    "print(df.duplicated().sum())\n"
   ]
  },
  {
   "cell_type": "code",
   "execution_count": 6,
   "metadata": {},
   "outputs": [
    {
     "data": {
      "text/plain": [
       "Movie Title    Chak De India\n",
       "Year                    2007\n",
       "Dialogue               Sorry\n",
       "Name: 22945, dtype: object"
      ]
     },
     "execution_count": 6,
     "metadata": {},
     "output_type": "execute_result"
    }
   ],
   "source": [
    "vz = df.copy()\n",
    "vz.iloc[22945]"
   ]
  },
  {
   "cell_type": "code",
   "execution_count": 7,
   "metadata": {},
   "outputs": [
    {
     "data": {
      "text/html": [
       "<div>\n",
       "<style scoped>\n",
       "    .dataframe tbody tr th:only-of-type {\n",
       "        vertical-align: middle;\n",
       "    }\n",
       "\n",
       "    .dataframe tbody tr th {\n",
       "        vertical-align: top;\n",
       "    }\n",
       "\n",
       "    .dataframe thead th {\n",
       "        text-align: right;\n",
       "    }\n",
       "</style>\n",
       "<table border=\"1\" class=\"dataframe\">\n",
       "  <thead>\n",
       "    <tr style=\"text-align: right;\">\n",
       "      <th></th>\n",
       "      <th>Movie Title</th>\n",
       "      <th>Year</th>\n",
       "      <th>Dialogue</th>\n",
       "    </tr>\n",
       "  </thead>\n",
       "  <tbody>\n",
       "    <tr>\n",
       "      <th>123226</th>\n",
       "      <td>Animal</td>\n",
       "      <td>2023</td>\n",
       "      <td>Good.</td>\n",
       "    </tr>\n",
       "    <tr>\n",
       "      <th>123227</th>\n",
       "      <td>Animal</td>\n",
       "      <td>2023</td>\n",
       "      <td>You were the one singing while</td>\n",
       "    </tr>\n",
       "    <tr>\n",
       "      <th>123228</th>\n",
       "      <td>Animal</td>\n",
       "      <td>2023</td>\n",
       "      <td>he was taking my brother's life, right?</td>\n",
       "    </tr>\n",
       "    <tr>\n",
       "      <th>123229</th>\n",
       "      <td>Animal</td>\n",
       "      <td>2023</td>\n",
       "      <td>And you were the one who</td>\n",
       "    </tr>\n",
       "    <tr>\n",
       "      <th>123230</th>\n",
       "      <td>Animal</td>\n",
       "      <td>2023</td>\n",
       "      <td>handed him a knife at the runway.</td>\n",
       "    </tr>\n",
       "  </tbody>\n",
       "</table>\n",
       "</div>"
      ],
      "text/plain": [
       "       Movie Title  Year                                 Dialogue\n",
       "123226      Animal  2023                                    Good.\n",
       "123227      Animal  2023           You were the one singing while\n",
       "123228      Animal  2023  he was taking my brother's life, right?\n",
       "123229      Animal  2023                 And you were the one who\n",
       "123230      Animal  2023        handed him a knife at the runway."
      ]
     },
     "execution_count": 7,
     "metadata": {},
     "output_type": "execute_result"
    }
   ],
   "source": [
    "df.tail()"
   ]
  },
  {
   "cell_type": "code",
   "execution_count": 8,
   "metadata": {},
   "outputs": [
    {
     "name": "stdout",
     "output_type": "stream",
     "text": [
      "0\n"
     ]
    },
    {
     "name": "stderr",
     "output_type": "stream",
     "text": [
      "C:\\Users\\Ashwin\\AppData\\Local\\Temp\\ipykernel_13112\\1367022659.py:1: DeprecationWarning: DataFrameGroupBy.apply operated on the grouping columns. This behavior is deprecated, and in a future version of pandas the grouping columns will be excluded from the operation. Either pass `include_groups=False` to exclude the groupings or explicitly select the grouping columns after groupby to silence this warning.\n",
      "  df = df.groupby('Movie Title', group_keys=False).apply(lambda x: x.drop_duplicates(subset='Dialogue', keep='first'))\n"
     ]
    }
   ],
   "source": [
    "df = df.groupby('Movie Title', group_keys=False).apply(lambda x: x.drop_duplicates(subset='Dialogue', keep='first'))\n",
    "print(df.duplicated().sum())"
   ]
  },
  {
   "cell_type": "code",
   "execution_count": 9,
   "metadata": {},
   "outputs": [
    {
     "name": "stdout",
     "output_type": "stream",
     "text": [
      "                  Movie Title  Year  \\\n",
      "0                    3 Idiots  2009   \n",
      "1          Ae Dil Hai Mushkil  2016   \n",
      "2                     Airlift  2016   \n",
      "3  Ajab Prem Ki Ghazab Kahani  2009   \n",
      "4                      Animal  2023   \n",
      "\n",
      "                                         Full Script  \n",
      "0  Hello Yes? What? Sir, kindly switch off your m...  \n",
      "1  What's wrong with this city? Somewhere there a...  \n",
      "2  And finally... How do you fit 30 Iraqis in one...  \n",
      "3  <font color=fuchsia size=20> <i>Movie & Captio...  \n",
      "4  POWER PROGRESS VICTORY 40th birthday, 50th bir...  \n"
     ]
    }
   ],
   "source": [
    "df_grouped = df.groupby([\"Movie Title\", \"Year\"])[\"Dialogue\"].apply(\" \".join).reset_index()\n",
    "\n",
    "# Rename the column for clarity\n",
    "df_grouped.rename(columns={\"Dialogue\": \"Full Script\"}, inplace=True)\n",
    "\n",
    "print(df_grouped.head())"
   ]
  },
  {
   "cell_type": "code",
   "execution_count": 10,
   "metadata": {},
   "outputs": [],
   "source": [
    "import re\n",
    "import spacy\n",
    "import en_core_web_sm"
   ]
  },
  {
   "cell_type": "code",
   "execution_count": 11,
   "metadata": {},
   "outputs": [],
   "source": [
    "nlp = en_core_web_sm.load()\n"
   ]
  },
  {
   "cell_type": "code",
   "execution_count": 12,
   "metadata": {},
   "outputs": [],
   "source": [
    "def preprocess_text(text):\n",
    "    text = text.lower()  # Convert to lowercase\n",
    "    text = re.sub(r\"[^a-z\\s]\", \"\", text)  # Remove special characters and numbers\n",
    "    doc = nlp(text)\n",
    "    tokens = [token.lemma_ for token in doc if not token.is_stop]  # Lemmatization & stopword removal\n",
    "    return \" \".join(tokens)"
   ]
  },
  {
   "cell_type": "code",
   "execution_count": 13,
   "metadata": {},
   "outputs": [],
   "source": [
    "df_grouped[\"Processed Script\"] = df_grouped[\"Full Script\"].apply(preprocess_text)"
   ]
  },
  {
   "cell_type": "code",
   "execution_count": 14,
   "metadata": {},
   "outputs": [
    {
     "name": "stdout",
     "output_type": "stream",
     "text": [
      "                  Movie Title  Year  \\\n",
      "0                    3 Idiots  2009   \n",
      "1          Ae Dil Hai Mushkil  2016   \n",
      "2                     Airlift  2016   \n",
      "3  Ajab Prem Ki Ghazab Kahani  2009   \n",
      "4                      Animal  2023   \n",
      "\n",
      "                                         Full Script  \\\n",
      "0  Hello Yes? What? Sir, kindly switch off your m...   \n",
      "1  What's wrong with this city? Somewhere there a...   \n",
      "2  And finally... How do you fit 30 Iraqis in one...   \n",
      "3  <font color=fuchsia size=20> <i>Movie & Captio...   \n",
      "4  POWER PROGRESS VICTORY 40th birthday, 50th bir...   \n",
      "\n",
      "                                    Processed Script  \n",
      "0  hello yes sir kindly switch mobile phone sec e...  \n",
      "1  s wrong city ashe smoke not endure smoke quiet...  \n",
      "2  finally fit   iraqis telephone booth tell belo...  \n",
      "3  font colorfuchsia size imovie   captioning con...  \n",
      "4  power progress victory th birthday th birthday...  \n"
     ]
    }
   ],
   "source": [
    "print(df_grouped.head())\n"
   ]
  },
  {
   "cell_type": "code",
   "execution_count": 15,
   "metadata": {},
   "outputs": [],
   "source": [
    "df_grouped.to_csv(\"processed_movie_scripts.csv\", index=True)"
   ]
  },
  {
   "cell_type": "code",
   "execution_count": 16,
   "metadata": {},
   "outputs": [],
   "source": [
    "from sklearn.feature_extraction.text import TfidfVectorizer"
   ]
  },
  {
   "cell_type": "code",
   "execution_count": 17,
   "metadata": {},
   "outputs": [],
   "source": [
    "final_riz_df = pd.read_csv(\"processed_movie_scripts.csv\")\n"
   ]
  },
  {
   "cell_type": "code",
   "execution_count": 18,
   "metadata": {},
   "outputs": [],
   "source": [
    "misrepresentation_keywords = {\n",
    "    \"terrorism\": [\n",
    "        # Specific terms\n",
    "        \"jihad\", \"jihadist\", \"suicide bomber\", \"islamic terrorism\", \"terror cell\", \n",
    "        \"radical islam\", \"terror attack\", \"militant group\", \"holy war\",\n",
    "        # Broader violence-related terms (context needed)\n",
    "        \"bomb\", \"attack\", \"explosion\", \"martyr\", \"radical\", \"extremist\", \"militant\"\n",
    "    ],\n",
    "\n",
    "    \"anger\": [\n",
    "        # Specific behavioral cues\n",
    "        \"furiously shouted\", \"slapped\", \"punched\", \"violent temper\", \"uncontrollable rage\",\n",
    "        \"abusive language\", \"violent outburst\", \"temper tantrum\",\n",
    "        # Broader emotional terms\n",
    "        \"rage\", \"furious\", \"angry\", \"short temper\", \"yelled\", \"screamed\", \"snapped\", \"exploded\"\n",
    "    ],\n",
    "\n",
    "    \"superstition\": [\n",
    "        # Specific references to religious extremism or magical thinking\n",
    "        \"divine punishment\", \"black magic\", \"evil eye\", \"curse\", \"ritual sacrifice\",\n",
    "        \"holy blessing\", \"superstitious belief\", \"demonic possession\",\n",
    "        # Broader phrases\n",
    "        \"primitive tradition\", \"backward thinking\", \"religious law\", \"old ways\", \n",
    "        \"anti-modern\", \"ancient customs\", \"superstition\", \"orthodox\", \"ritual\"\n",
    "    ],\n",
    "\n",
    "    \"threat_to_western\": [\n",
    "        # Clear political/cultural conflict terms\n",
    "        \"anti-democracy\", \"death to the west\", \"sharia law\", \"dictatorship\",\n",
    "        \"destroy freedom\", \"corrupt government\", \"overthrow system\",\n",
    "        # Criminal activity or anti-West tropes\n",
    "        \"gang activity\", \"underground network\", \"illegal trade\", \"contraband\", \n",
    "        \"arms dealer\", \"trafficking\", \"corruption\", \"fundamentalism\"\n",
    "    ],\n",
    "\n",
    "    \"misogyny\": [\n",
    "        # Specific oppression or violence\n",
    "        \"honor killing\", \"forced marriage\", \"child bride\", \"male authority\", \n",
    "        \"domestic abuse\", \"rape\", \"molestation\", \"harassment\", \"submission\",\n",
    "        # Phrases showing gendered power imbalance\n",
    "        \"serve her husband\", \"woman's duty\", \"women belong at home\", \"female obedience\",\n",
    "        \"obedient wife\", \"women are weak\", \"man's world\", \"female servant\", \n",
    "        \"treats women like property\", \"prostitution\", \"used for pleasure\"\n",
    "    ]\n",
    "}"
   ]
  },
  {
   "cell_type": "code",
   "execution_count": 19,
   "metadata": {},
   "outputs": [],
   "source": [
    "# Initialize columns for each Riz Test feature\n",
    "for category in misrepresentation_keywords:\n",
    "    final_riz_df[category] = 0\n"
   ]
  },
  {
   "cell_type": "code",
   "execution_count": 20,
   "metadata": {},
   "outputs": [],
   "source": [
    "# Use TF-IDF vectorization for keyword matching\n",
    "vectorizer = TfidfVectorizer()\n",
    "X = vectorizer.fit_transform(final_riz_df[\"Processed Script\"])\n"
   ]
  },
  {
   "cell_type": "code",
   "execution_count": 21,
   "metadata": {},
   "outputs": [],
   "source": [
    "tfidf_df = pd.DataFrame(X.toarray(), columns=vectorizer.get_feature_names_out())\n"
   ]
  },
  {
   "cell_type": "code",
   "execution_count": 22,
   "metadata": {},
   "outputs": [],
   "source": [
    "# Check if any keyword is present in each script\n",
    "for category, keywords in misrepresentation_keywords.items():\n",
    "    # Filter out missing words that are not in the TF-IDF matrix\n",
    "    existing_keywords = [word for word in keywords if word in tfidf_df.columns]\n",
    "    \n",
    "    if existing_keywords:  # Only proceed if at least one keyword exists in TF-IDF features\n",
    "        final_riz_df[category] = tfidf_df[existing_keywords].sum(axis=1).apply(lambda x: 1 if x > 0 else 0)\n",
    "    else:\n",
    "        final_riz_df[category] = 0  # If no keywords exist, set column to 0"
   ]
  },
  {
   "cell_type": "code",
   "execution_count": 23,
   "metadata": {},
   "outputs": [],
   "source": [
    "# Compute final Riz Test Score (sum of all binary features)\n",
    "final_riz_df[\"riz_score\"] = final_riz_df[list(misrepresentation_keywords.keys())].sum(axis=1)"
   ]
  },
  {
   "cell_type": "code",
   "execution_count": 24,
   "metadata": {},
   "outputs": [],
   "source": [
    "# Save updated dataframe\n",
    "final_riz_df.drop([\"Processed Script\", \"Full Script\", \"Unnamed: 0\"], axis=1, inplace=True)\n",
    "final_riz_df = final_riz_df.sort_values(by='Year', ascending=True)\n",
    "final_riz_df.to_csv(\"riz_test_results.csv\", index=False)"
   ]
  },
  {
   "cell_type": "code",
   "execution_count": 25,
   "metadata": {},
   "outputs": [
    {
     "data": {
      "text/html": [
       "<div>\n",
       "<style scoped>\n",
       "    .dataframe tbody tr th:only-of-type {\n",
       "        vertical-align: middle;\n",
       "    }\n",
       "\n",
       "    .dataframe tbody tr th {\n",
       "        vertical-align: top;\n",
       "    }\n",
       "\n",
       "    .dataframe thead th {\n",
       "        text-align: right;\n",
       "    }\n",
       "</style>\n",
       "<table border=\"1\" class=\"dataframe\">\n",
       "  <thead>\n",
       "    <tr style=\"text-align: right;\">\n",
       "      <th></th>\n",
       "      <th>Movie Title</th>\n",
       "      <th>Year</th>\n",
       "      <th>terrorism</th>\n",
       "      <th>anger</th>\n",
       "      <th>superstition</th>\n",
       "      <th>threat_to_western</th>\n",
       "      <th>misogyny</th>\n",
       "      <th>riz_score</th>\n",
       "    </tr>\n",
       "  </thead>\n",
       "  <tbody>\n",
       "    <tr>\n",
       "      <th>15</th>\n",
       "      <td>Dhoom</td>\n",
       "      <td>2004</td>\n",
       "      <td>1</td>\n",
       "      <td>0</td>\n",
       "      <td>0</td>\n",
       "      <td>0</td>\n",
       "      <td>0</td>\n",
       "      <td>1</td>\n",
       "    </tr>\n",
       "    <tr>\n",
       "      <th>28</th>\n",
       "      <td>Main Hoon Na</td>\n",
       "      <td>2004</td>\n",
       "      <td>1</td>\n",
       "      <td>1</td>\n",
       "      <td>0</td>\n",
       "      <td>0</td>\n",
       "      <td>0</td>\n",
       "      <td>2</td>\n",
       "    </tr>\n",
       "    <tr>\n",
       "      <th>56</th>\n",
       "      <td>Veer Zaara</td>\n",
       "      <td>2004</td>\n",
       "      <td>0</td>\n",
       "      <td>1</td>\n",
       "      <td>1</td>\n",
       "      <td>0</td>\n",
       "      <td>0</td>\n",
       "      <td>2</td>\n",
       "    </tr>\n",
       "    <tr>\n",
       "      <th>29</th>\n",
       "      <td>Mangal Pandey</td>\n",
       "      <td>2005</td>\n",
       "      <td>1</td>\n",
       "      <td>1</td>\n",
       "      <td>1</td>\n",
       "      <td>1</td>\n",
       "      <td>0</td>\n",
       "      <td>4</td>\n",
       "    </tr>\n",
       "    <tr>\n",
       "      <th>41</th>\n",
       "      <td>Sarkar</td>\n",
       "      <td>2005</td>\n",
       "      <td>1</td>\n",
       "      <td>1</td>\n",
       "      <td>0</td>\n",
       "      <td>0</td>\n",
       "      <td>1</td>\n",
       "      <td>3</td>\n",
       "    </tr>\n",
       "  </tbody>\n",
       "</table>\n",
       "</div>"
      ],
      "text/plain": [
       "      Movie Title  Year  terrorism  anger  superstition  threat_to_western  \\\n",
       "15          Dhoom  2004          1      0             0                  0   \n",
       "28   Main Hoon Na  2004          1      1             0                  0   \n",
       "56     Veer Zaara  2004          0      1             1                  0   \n",
       "29  Mangal Pandey  2005          1      1             1                  1   \n",
       "41         Sarkar  2005          1      1             0                  0   \n",
       "\n",
       "    misogyny  riz_score  \n",
       "15         0          1  \n",
       "28         0          2  \n",
       "56         0          2  \n",
       "29         0          4  \n",
       "41         1          3  "
      ]
     },
     "execution_count": 25,
     "metadata": {},
     "output_type": "execute_result"
    }
   ],
   "source": [
    "final_riz_df.head()"
   ]
  },
  {
   "cell_type": "code",
   "execution_count": 26,
   "metadata": {},
   "outputs": [],
   "source": [
    "import matplotlib.pyplot as plt\n",
    "import numpy as np\n",
    "from sklearn.linear_model import LinearRegression"
   ]
  },
  {
   "cell_type": "code",
   "execution_count": 27,
   "metadata": {},
   "outputs": [
    {
     "data": {
      "image/png": "[encoded data removed]",
      "text/plain": [
       "<Figure size 1000x600 with 1 Axes>"
      ]
     },
     "metadata": {},
     "output_type": "display_data"
    }
   ],
   "source": [
    "# Convert year to last two digits\n",
    "final_riz_df[\"Year_short\"] = final_riz_df[\"Year\"] % 100  # e.g. 2004 → 4\n",
    "\n",
    "# Prepare X (year) and y (riz_score) for regression\n",
    "X = final_riz_df[[\"Year_short\"]].values\n",
    "y = final_riz_df[\"riz_score\"].values\n",
    "\n",
    "# Fit linear regression model\n",
    "model = LinearRegression()\n",
    "model.fit(X, y)\n",
    "y_pred = model.predict(X)\n",
    "\n",
    "# Plot\n",
    "plt.figure(figsize=(10, 6))\n",
    "\n",
    "# Jitter the X values for better visibility in scatter\n",
    "x_jittered = X.flatten() + np.random.uniform(-0.2, 0.2, size=len(X))\n",
    "plt.scatter(x_jittered, y, color=\"dodgerblue\", alpha=0.8, edgecolors='k', label=\"Movies\")\n",
    "\n",
    "# Plot regression line\n",
    "x_line = np.linspace(min(final_riz_df[\"Year_short\"]), max(final_riz_df[\"Year_short\"]), 100).reshape(-1, 1)\n",
    "y_line = model.predict(x_line)\n",
    "plt.plot(x_line, y_line, color=\"crimson\", linewidth=2, label=\"Linear Regression\")\n",
    "\n",
    "# Labeling\n",
    "plt.title(\"Riz Score Trend by Movie Year\", fontsize=14)\n",
    "plt.xlabel(\"Movie Year (Last Two Digits)\", fontsize=12)\n",
    "plt.ylabel(\"Riz Score\", fontsize=12)\n",
    "plt.yticks(range(0, 6))\n",
    "plt.xticks(sorted(final_riz_df[\"Year_short\"].unique()))\n",
    "plt.grid(True, linestyle='--', alpha=0.5)\n",
    "plt.legend()\n",
    "\n",
    "plt.tight_layout()\n",
    "plt.show()"
   ]
  },
  {
   "cell_type": "code",
   "execution_count": null,
   "metadata": {},
   "outputs": [],
   "source": []
  }
 ],
 "metadata": {
  "kernelspec": {
   "display_name": ".venv",
   "language": "python",
   "name": "python3"
  },
  "language_info": {
   "codemirror_mode": {
    "name": "ipython",
    "version": 3
   },
   "file_extension": ".py",
   "mimetype": "text/x-python",
   "name": "python",
   "nbconvert_exporter": "python",
   "pygments_lexer": "ipython3",
   "version": "3.11.4"
  }
 },
 "nbformat": 4,
 "nbformat_minor": 2
}
